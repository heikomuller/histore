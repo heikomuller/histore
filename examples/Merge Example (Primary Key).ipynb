{
 "cells": [
  {
   "cell_type": "code",
   "execution_count": 1,
   "metadata": {},
   "outputs": [],
   "source": [
    "# Create a new archive that merges snapshots\n",
    "# based on a primary key attribute\n",
    "\n",
    "import histore as hs\n",
    "\n",
    "archive = hs.Archive(primary_key='Name')"
   ]
  },
  {
   "cell_type": "code",
   "execution_count": 2,
   "metadata": {},
   "outputs": [
    {
     "name": "stdout",
     "output_type": "stream",
     "text": [
      "<Snapshot (version=0 description='First snapshot' at=2020-04-21 16:46:08.413372-04:00)>\n"
     ]
    }
   ],
   "source": [
    "import pandas as pd\n",
    "\n",
    "# First version\n",
    "\n",
    "df = pd.DataFrame(\n",
    "    data=[['Alice', 32], ['Bob', 45], ['Claire', 27], ['Dave', 23]],\n",
    "    columns=['Name', 'Age']\n",
    ")\n",
    "s = archive.commit(df, description='First snapshot')\n",
    "print(s)"
   ]
  },
  {
   "cell_type": "code",
   "execution_count": 3,
   "metadata": {},
   "outputs": [
    {
     "name": "stdout",
     "output_type": "stream",
     "text": [
      "<Snapshot (version=1 description='Alice is 33 and Bob 44' at=2020-04-21 16:46:08.440498-04:00)>\n"
     ]
    }
   ],
   "source": [
    "# Second version\n",
    "# Change age for Alice and Bob\n",
    "\n",
    "df = pd.DataFrame(\n",
    "    data=[['Alice', 33], ['Bob', 44], ['Claire', 27], ['Dave', 23]],\n",
    "    columns=['Name', 'Age']\n",
    ")\n",
    "s = archive.commit(df, description='Alice is 33 and Bob 44')\n",
    "print(s)"
   ]
  },
  {
   "cell_type": "code",
   "execution_count": 4,
   "metadata": {},
   "outputs": [
    {
     "name": "stdout",
     "output_type": "stream",
     "text": [
      "<Snapshot (version=2 description='Alice is 32 again and now with Eve' at=2020-04-21 16:46:08.461038-04:00)>\n"
     ]
    }
   ],
   "source": [
    "# Third version\n",
    "# Reset age for Alice to 32, remove Dave and add Eve\n",
    "\n",
    "df = pd.DataFrame(\n",
    "    data=[['Alice', 32], ['Bob', 44], ['Claire', 27], ['Eve', 27]],\n",
    "    columns=['Name', 'Age']\n",
    ")\n",
    "s = archive.commit(df, description='Alice is 32 again and now with Eve but not Dave')\n",
    "print(s)"
   ]
  },
  {
   "cell_type": "code",
   "execution_count": 5,
   "metadata": {},
   "outputs": [
    {
     "name": "stdout",
     "output_type": "stream",
     "text": [
      "<Snapshot (version=3 description='Reverse order and Claire is 28' at=2020-04-21 16:46:08.480950-04:00)>\n"
     ]
    }
   ],
   "source": [
    "# Fourth version\n",
    "# Reverse order and set Claire's age to 28\n",
    "\n",
    "df = pd.DataFrame(\n",
    "    data=[['Eve', 27], ['Claire', 28], ['Bob', 44], ['Alice', 32]],\n",
    "    columns=['Name', 'Age']\n",
    ")\n",
    "s = archive.commit(df, description='Reverse order and Claire is 28')\n",
    "print(s)"
   ]
  },
  {
   "cell_type": "code",
   "execution_count": 6,
   "metadata": {},
   "outputs": [
    {
     "name": "stdout",
     "output_type": "stream",
     "text": [
      "(0) First snapshot\n",
      "\n",
      "     Name  Age\n",
      "0   Alice   32\n",
      "1     Bob   45\n",
      "2  Claire   27\n",
      "3    Dave   23\n",
      "\n",
      "(1) Alice is 33 and Bob 44\n",
      "\n",
      "     Name  Age\n",
      "0   Alice   33\n",
      "1     Bob   44\n",
      "2  Claire   27\n",
      "3    Dave   23\n",
      "\n",
      "(2) Alice is 32 again and now with Eve\n",
      "\n",
      "     Name  Age\n",
      "0   Alice   32\n",
      "1     Bob   44\n",
      "2  Claire   27\n",
      "4     Eve   27\n",
      "\n",
      "(3) Reverse order and Claire is 28\n",
      "\n",
      "     Name  Age\n",
      "4     Eve   27\n",
      "2  Claire   28\n",
      "1     Bob   44\n",
      "0   Alice   32\n",
      "\n"
     ]
    }
   ],
   "source": [
    "# Print all versions\n",
    "\n",
    "for s in archive.snapshots():\n",
    "    df = archive.checkout(s.version)\n",
    "    print('({}) {}\\n'.format(s.version, s.description))\n",
    "    print(df)\n",
    "    print()"
   ]
  },
  {
   "cell_type": "code",
   "execution_count": 7,
   "metadata": {},
   "outputs": [
    {
     "name": "stdout",
     "output_type": "stream",
     "text": [
      "<ArchiveRow (\n",
      "\tid=0\n",
      "\tkey=Alice\n",
      "\ttimestampts=[0-3]\n",
      "\tpos=(0 [0-2], 3 [3])\n",
      "\tvalues={0: (Alice [0-3]), 1: (32 [0,2-3], 33 [1])})>\n",
      "<ArchiveRow (\n",
      "\tid=1\n",
      "\tkey=Bob\n",
      "\ttimestampts=[0-3]\n",
      "\tpos=(1 [0-2], 2 [3])\n",
      "\tvalues={0: (Bob [0-3]), 1: (45 [0], 44 [1-3])})>\n",
      "<ArchiveRow (\n",
      "\tid=2\n",
      "\tkey=Claire\n",
      "\ttimestampts=[0-3]\n",
      "\tpos=(2 [0-2], 1 [3])\n",
      "\tvalues={0: (Claire [0-3]), 1: (27 [0-2], 28 [3])})>\n",
      "<ArchiveRow (\n",
      "\tid=3\n",
      "\tkey=Dave\n",
      "\ttimestampts=[0-1]\n",
      "\tpos=(3 [0-1])\n",
      "\tvalues={0: (Dave [0-1]), 1: (23 [0-1])})>\n",
      "<ArchiveRow (\n",
      "\tid=4\n",
      "\tkey=Eve\n",
      "\ttimestampts=[2-3]\n",
      "\tpos=(3 [2], 0 [3])\n",
      "\tvalues={0: (Eve [2-3]), 1: (27 [2-3])})>\n"
     ]
    }
   ],
   "source": [
    "reader = archive.reader()\n",
    "while reader.has_next():\n",
    "    row = reader.next()\n",
    "    print(row)"
   ]
  },
  {
   "cell_type": "code",
   "execution_count": null,
   "metadata": {},
   "outputs": [],
   "source": []
  }
 ],
 "metadata": {
  "kernelspec": {
   "display_name": "Python 3",
   "language": "python",
   "name": "python3"
  },
  "language_info": {
   "codemirror_mode": {
    "name": "ipython",
    "version": 3
   },
   "file_extension": ".py",
   "mimetype": "text/x-python",
   "name": "python",
   "nbconvert_exporter": "python",
   "pygments_lexer": "ipython3",
   "version": "3.8.2"
  }
 },
 "nbformat": 4,
 "nbformat_minor": 4
}
