{
 "cells": [
  {
   "cell_type": "code",
   "execution_count": 1,
   "metadata": {},
   "outputs": [],
   "source": [
    "# Create a new archive\n",
    "import histore as hs\n",
    "\n",
    "archive = hs.Archive()"
   ]
  },
  {
   "cell_type": "code",
   "execution_count": 2,
   "metadata": {},
   "outputs": [
    {
     "name": "stdout",
     "output_type": "stream",
     "text": [
      "<Snapshot (version=0 description='First snapshot' at=2020-05-03 13:46:57.677924-04:00)>\n"
     ]
    }
   ],
   "source": [
    "import pandas as pd\n",
    "\n",
    "# First version\n",
    "\n",
    "df = pd.DataFrame(\n",
    "    data=[['Alice', 32], ['Bob', 45], ['Claire', 27], ['Alice', 23]],\n",
    "    columns=['Name', 'Age']\n",
    ")\n",
    "s = archive.commit(df, description='First snapshot')\n",
    "print(s)"
   ]
  },
  {
   "cell_type": "code",
   "execution_count": 3,
   "metadata": {},
   "outputs": [
    {
     "name": "stdout",
     "output_type": "stream",
     "text": [
      "     Name  Age\n",
      "0   Alice   32\n",
      "1     Bob   45\n",
      "2  Claire   27\n",
      "3   Alice   23\n"
     ]
    }
   ],
   "source": [
    "df = archive.checkout(0)\n",
    "print(df)"
   ]
  },
  {
   "cell_type": "code",
   "execution_count": 4,
   "metadata": {},
   "outputs": [
    {
     "name": "stdout",
     "output_type": "stream",
     "text": [
      "<Snapshot (version=1 description='Now with Dave and Bob is 44' at=2020-05-03 13:46:57.741522-04:00)>\n"
     ]
    }
   ],
   "source": [
    "# Second version\n",
    "# Rename 'Alice' in last row to 'Dave' and change Bob's age to 44\n",
    "\n",
    "df = pd.DataFrame(\n",
    "    data=[['Alice', 32], ['Bob', 44], ['Claire', 27], ['Dave', 23]],\n",
    "    index=[0, 1, 2, 3],\n",
    "    columns=['Name', 'Age']\n",
    ")\n",
    "s = archive.commit(df, description='Now with Dave and Bob is 44')\n",
    "print(s)"
   ]
  },
  {
   "cell_type": "code",
   "execution_count": 5,
   "metadata": {},
   "outputs": [
    {
     "name": "stdout",
     "output_type": "stream",
     "text": [
      "     Name  Age\n",
      "0   Alice   32\n",
      "1     Bob   44\n",
      "2  Claire   27\n",
      "3    Dave   23\n"
     ]
    }
   ],
   "source": [
    "df = archive.checkout(1)\n",
    "print(df)"
   ]
  },
  {
   "cell_type": "code",
   "execution_count": 6,
   "metadata": {},
   "outputs": [
    {
     "name": "stdout",
     "output_type": "stream",
     "text": [
      "<Snapshot (version=2 description='Reverse order and Dave is 33' at=2020-05-03 13:46:57.783390-04:00)>\n"
     ]
    }
   ],
   "source": [
    "# Third version\n",
    "# Reverse order, change Dave's age to 33\n",
    "\n",
    "# Ensure to reverse order of row identifier!\n",
    "df = pd.DataFrame(\n",
    "    data=[['Dave', 33], ['Claire', 27], ['Bob', 44], ['Alice', 32]],\n",
    "    index=[3, 2, 1, 0],\n",
    "    columns=['Name', 'Age']\n",
    ")\n",
    "s = archive.commit(df, description='Reverse order and Dave is 33')\n",
    "print(s)"
   ]
  },
  {
   "cell_type": "code",
   "execution_count": 7,
   "metadata": {},
   "outputs": [
    {
     "name": "stdout",
     "output_type": "stream",
     "text": [
      "<Snapshot (version=3 description='Now with Eve and Alice is first' at=2020-05-03 13:46:57.805425-04:00)>\n"
     ]
    }
   ],
   "source": [
    "# Fourth version\n",
    "# Remove Dave, insert Eve, move Alice to front\n",
    "\n",
    "df = pd.DataFrame(\n",
    "    data=[['Alice', 32], ['Eve', 25], ['Claire', 27], ['Bob', 44]],\n",
    "    index=[0, None, 2, 1],\n",
    "    columns=['Name', 'Age']\n",
    ")\n",
    "s = archive.commit(df, description='Now with Eve and Alice is first')\n",
    "print(s)"
   ]
  },
  {
   "cell_type": "code",
   "execution_count": 8,
   "metadata": {},
   "outputs": [
    {
     "name": "stdout",
     "output_type": "stream",
     "text": [
      "<Snapshot (version=4 description='Alice is 31' at=2020-05-03 13:46:57.829442-04:00)>\n"
     ]
    }
   ],
   "source": [
    "# Fifth version\n",
    "# Partial update: Alice is now 31\n",
    "\n",
    "# Merge data frame that only contains information about Alice\n",
    "df = pd.DataFrame(\n",
    "    data=[['Alice', 31]],\n",
    "    index=[0],\n",
    "    columns=['Name', 'Age']\n",
    ")\n",
    "\n",
    "# As an alternative, we could also merge a data frame that only contains Alice's age (and the row id):\n",
    "# pd.DataFrame(data=[[31]], index=[0], columns=['Age'])\n",
    "\n",
    "s = archive.commit(df, description='Alice is 31', partial=True)\n",
    "print(s)"
   ]
  },
  {
   "cell_type": "code",
   "execution_count": 9,
   "metadata": {},
   "outputs": [
    {
     "name": "stdout",
     "output_type": "stream",
     "text": [
      "<Snapshot (version=5 description='Dave is back at 34' at=2020-05-03 13:46:57.849368-04:00)>\n"
     ]
    }
   ],
   "source": [
    "# Sixth version\n",
    "# Bring Dave back at age 34\n",
    "\n",
    "df = pd.DataFrame(\n",
    "    data=[['Alice', 31], ['Eve', 25], ['Claire', 27], ['Bob', 44], ['Dave', 34]],\n",
    "    index=[0, 4, 2, 1, 3],\n",
    "    columns=['Name', 'Age']\n",
    ")\n",
    "\n",
    "s = archive.commit(df, description='Dave is back at 34')\n",
    "print(s)"
   ]
  },
  {
   "cell_type": "code",
   "execution_count": 10,
   "metadata": {},
   "outputs": [
    {
     "name": "stdout",
     "output_type": "stream",
     "text": [
      "(0) First snapshot\n",
      "\n",
      "     Name  Age\n",
      "0   Alice   32\n",
      "1     Bob   45\n",
      "2  Claire   27\n",
      "3   Alice   23\n",
      "\n",
      "(1) Now with Dave and Bob is 44\n",
      "\n",
      "     Name  Age\n",
      "0   Alice   32\n",
      "1     Bob   44\n",
      "2  Claire   27\n",
      "3    Dave   23\n",
      "\n",
      "(2) Reverse order and Dave is 33\n",
      "\n",
      "     Name  Age\n",
      "3    Dave   33\n",
      "2  Claire   27\n",
      "1     Bob   44\n",
      "0   Alice   32\n",
      "\n",
      "(3) Now with Eve and Alice is first\n",
      "\n",
      "     Name  Age\n",
      "0   Alice   32\n",
      "4     Eve   25\n",
      "2  Claire   27\n",
      "1     Bob   44\n",
      "\n",
      "(4) Alice is 31\n",
      "\n",
      "     Name  Age\n",
      "0   Alice   31\n",
      "4     Eve   25\n",
      "2  Claire   27\n",
      "1     Bob   44\n",
      "\n",
      "(5) Dave is back at 34\n",
      "\n",
      "     Name  Age\n",
      "0   Alice   31\n",
      "4     Eve   25\n",
      "2  Claire   27\n",
      "1     Bob   44\n",
      "3    Dave   34\n",
      "\n"
     ]
    }
   ],
   "source": [
    "# Print all versions\n",
    "\n",
    "for s in archive.snapshots():\n",
    "    df = archive.checkout(s.version)\n",
    "    print('({}) {}\\n'.format(s.version, s.description))\n",
    "    print(df)\n",
    "    print()"
   ]
  },
  {
   "cell_type": "code",
   "execution_count": 11,
   "metadata": {},
   "outputs": [
    {
     "name": "stdout",
     "output_type": "stream",
     "text": [
      "<ArchiveRow (\n",
      "\tid=0\n",
      "\tkey=0\n",
      "\ttimestamp=[0-5]\n",
      "\tpos=(0 [0-1,3-5], 3 [2])\n",
      "\tvalues={0: (Alice [0-5]), 1: (32 [0-3], 31 [4-5])})>\n",
      "<ArchiveRow (\n",
      "\tid=1\n",
      "\tkey=1\n",
      "\ttimestamp=[0-5]\n",
      "\tpos=(1 [0-1], 2 [2], 3 [3-5])\n",
      "\tvalues={0: (Bob [0-5]), 1: (45 [0], 44 [1-5])})>\n",
      "<ArchiveRow (\n",
      "\tid=2\n",
      "\tkey=2\n",
      "\ttimestamp=[0-5]\n",
      "\tpos=(2 [0-1,3-5], 1 [2])\n",
      "\tvalues={0: (Claire [0-5]), 1: (27 [0-5])})>\n",
      "<ArchiveRow (\n",
      "\tid=3\n",
      "\tkey=3\n",
      "\ttimestamp=[0-2,5]\n",
      "\tpos=(3 [0-1], 0 [2], 4 [5])\n",
      "\tvalues={0: (Alice [0], Dave [1-2,5]), 1: (23 [0-1], 33 [2], 34 [5])})>\n",
      "<ArchiveRow (\n",
      "\tid=4\n",
      "\tkey=4\n",
      "\ttimestamp=[3-5]\n",
      "\tpos=(1 [3-5])\n",
      "\tvalues={0: (Eve [3-5]), 1: (25 [3-5])})>\n"
     ]
    }
   ],
   "source": [
    "reader = archive.reader()\n",
    "while reader.has_next():\n",
    "    row = reader.next()\n",
    "    print(row)"
   ]
  }
 ],
 "metadata": {
  "kernelspec": {
   "display_name": "Python 3",
   "language": "python",
   "name": "python3"
  },
  "language_info": {
   "codemirror_mode": {
    "name": "ipython",
    "version": 3
   },
   "file_extension": ".py",
   "mimetype": "text/x-python",
   "name": "python",
   "nbconvert_exporter": "python",
   "pygments_lexer": "ipython3",
   "version": "3.8.2"
  }
 },
 "nbformat": 4,
 "nbformat_minor": 4
}
